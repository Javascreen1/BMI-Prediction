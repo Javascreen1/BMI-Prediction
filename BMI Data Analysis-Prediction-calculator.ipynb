{
 "cells": [
  {
   "cell_type": "markdown",
   "id": "cf576f85",
   "metadata": {},
   "source": [
    "#  BMI Data Analysis and Prediction\n",
    "\n",
    "---------------\n",
    "## Context\n",
    "---------------\n",
    "\n",
    "BMI stands for Body Mass Index. It is a measure of a person's body fat based on their height and weight. It is calculated by dividing a person's weight in kilograms by the square of their height in meters (BMI = weight(kg) / height(m)^2). BMI is widely used as a simple and inexpensive screening tool to identify whether a person is underweight, normal weight, overweight, or obese for their height.\n",
    "\n",
    "BMI has been widely adopted by healthcare professionals, researchers, and public health officials as a tool for monitoring trends in population health and for identifying individuals who may be at risk for weight-related health problems. It is important to understand the significance of BMI and how it can be used to improve health outcomes.\n",
    "\n",
    "\n",
    "-----------------\n",
    "## Objective\n",
    "-----------------\n",
    "\n",
    "The aim is to create a linear regression model that predicts the BMI  \n",
    "\n",
    "-------------------------\n",
    "## Data Dictionary\n",
    "-------------------------\n",
    "\n",
    "The dataset has the following information:\n",
    "\n",
    "* **Height (M)**: This variable represents the height of an individual in meters. Height is an important factor in determining body composition and is often used in calculating other measurements like BMI.\n",
    "\n",
    "* **Weight (kg)**: This variable represents the weight of an individual in kilograms. Weight is an important factor in determining body composition and is often used in calculating other measurements like BMI.\n",
    "\n",
    "* **BMI**: BMI stands for Body Mass Index, and is calculated as the ratio of an individual's weight in kilograms to the square of their height in meters (kg/m^2). BMI is a widely used measure of body composition that helps to determine if a person is underweight, normal weight, overweight or obese.\n",
    "\n",
    "* **%Fat**: This variable represents the percentage of body fat that an individual has. Body fat percentage is an important measure of health and fitness, as high levels of body fat are associated with increased risk of various health problems, including heart disease, diabetes, and certain types of cancer."
   ]
  },
  {
   "cell_type": "markdown",
   "id": "af4d8c37",
   "metadata": {},
   "source": [
    "### Importing the necessary libraries for the analysis of the Data"
   ]
  },
  {
   "cell_type": "code",
   "execution_count": 1,
   "id": "3f6e9b33",
   "metadata": {},
   "outputs": [],
   "source": [
    "import pandas as pd\n",
    "import numpy as np"
   ]
  },
  {
   "cell_type": "markdown",
   "id": "92295265",
   "metadata": {},
   "source": [
    "- Numpy (coined from the two words, numerical-python) is is a Python library used for mathematical or numerical    computations. With numpy we can create, access, manipulate and perform several operations on multidimensional data\n",
    "\n",
    "- Pandas (coined from words, Panel-Data, commonly used in econometrics) allows us do carry out operations on structured tabular data"
   ]
  },
  {
   "cell_type": "code",
   "execution_count": 2,
   "id": "782bd38c",
   "metadata": {},
   "outputs": [],
   "source": [
    "# reading the csv file containing the dataset into jupyter notebook from local file storage location\n",
    "\n",
    "df = pd.read_csv(r\"C:\\Users\\Victor Adekunle\\Dropbox\\PC\\Downloads\\Data Analyst Technical Test - Data.csv\")"
   ]
  },
  {
   "cell_type": "code",
   "execution_count": 3,
   "id": "c94314e7",
   "metadata": {},
   "outputs": [
    {
     "data": {
      "text/html": [
       "<div>\n",
       "<style scoped>\n",
       "    .dataframe tbody tr th:only-of-type {\n",
       "        vertical-align: middle;\n",
       "    }\n",
       "\n",
       "    .dataframe tbody tr th {\n",
       "        vertical-align: top;\n",
       "    }\n",
       "\n",
       "    .dataframe thead th {\n",
       "        text-align: right;\n",
       "    }\n",
       "</style>\n",
       "<table border=\"1\" class=\"dataframe\">\n",
       "  <thead>\n",
       "    <tr style=\"text-align: right;\">\n",
       "      <th></th>\n",
       "      <th>Height M</th>\n",
       "      <th>Weight kg</th>\n",
       "      <th>BMI</th>\n",
       "      <th>%Fat</th>\n",
       "    </tr>\n",
       "  </thead>\n",
       "  <tbody>\n",
       "    <tr>\n",
       "      <th>0</th>\n",
       "      <td>1.60020</td>\n",
       "      <td>49.441572</td>\n",
       "      <td>19.308287</td>\n",
       "      <td>23.9</td>\n",
       "    </tr>\n",
       "    <tr>\n",
       "      <th>1</th>\n",
       "      <td>1.65100</td>\n",
       "      <td>62.595751</td>\n",
       "      <td>22.964168</td>\n",
       "      <td>28.8</td>\n",
       "    </tr>\n",
       "    <tr>\n",
       "      <th>2</th>\n",
       "      <td>1.65100</td>\n",
       "      <td>75.749931</td>\n",
       "      <td>27.789971</td>\n",
       "      <td>32.4</td>\n",
       "    </tr>\n",
       "    <tr>\n",
       "      <th>3</th>\n",
       "      <td>1.53035</td>\n",
       "      <td>48.987979</td>\n",
       "      <td>20.917414</td>\n",
       "      <td>25.8</td>\n",
       "    </tr>\n",
       "    <tr>\n",
       "      <th>4</th>\n",
       "      <td>1.45415</td>\n",
       "      <td>43.091278</td>\n",
       "      <td>20.378441</td>\n",
       "      <td>22.5</td>\n",
       "    </tr>\n",
       "    <tr>\n",
       "      <th>...</th>\n",
       "      <td>...</td>\n",
       "      <td>...</td>\n",
       "      <td>...</td>\n",
       "      <td>...</td>\n",
       "    </tr>\n",
       "    <tr>\n",
       "      <th>87</th>\n",
       "      <td>1.49225</td>\n",
       "      <td>39.008946</td>\n",
       "      <td>17.517860</td>\n",
       "      <td>23.3</td>\n",
       "    </tr>\n",
       "    <tr>\n",
       "      <th>88</th>\n",
       "      <td>1.60020</td>\n",
       "      <td>41.276908</td>\n",
       "      <td>16.119762</td>\n",
       "      <td>20.1</td>\n",
       "    </tr>\n",
       "    <tr>\n",
       "      <th>89</th>\n",
       "      <td>1.42240</td>\n",
       "      <td>38.101762</td>\n",
       "      <td>18.832222</td>\n",
       "      <td>30.3</td>\n",
       "    </tr>\n",
       "    <tr>\n",
       "      <th>90</th>\n",
       "      <td>1.39700</td>\n",
       "      <td>30.163895</td>\n",
       "      <td>15.455911</td>\n",
       "      <td>20.6</td>\n",
       "    </tr>\n",
       "    <tr>\n",
       "      <th>91</th>\n",
       "      <td>1.44780</td>\n",
       "      <td>38.555354</td>\n",
       "      <td>18.393634</td>\n",
       "      <td>26.0</td>\n",
       "    </tr>\n",
       "  </tbody>\n",
       "</table>\n",
       "<p>92 rows × 4 columns</p>\n",
       "</div>"
      ],
      "text/plain": [
       "    Height M  Weight kg        BMI  %Fat\n",
       "0    1.60020  49.441572  19.308287  23.9\n",
       "1    1.65100  62.595751  22.964168  28.8\n",
       "2    1.65100  75.749931  27.789971  32.4\n",
       "3    1.53035  48.987979  20.917414  25.8\n",
       "4    1.45415  43.091278  20.378441  22.5\n",
       "..       ...        ...        ...   ...\n",
       "87   1.49225  39.008946  17.517860  23.3\n",
       "88   1.60020  41.276908  16.119762  20.1\n",
       "89   1.42240  38.101762  18.832222  30.3\n",
       "90   1.39700  30.163895  15.455911  20.6\n",
       "91   1.44780  38.555354  18.393634  26.0\n",
       "\n",
       "[92 rows x 4 columns]"
      ]
     },
     "execution_count": 3,
     "metadata": {},
     "output_type": "execute_result"
    }
   ],
   "source": [
    "df"
   ]
  },
  {
   "cell_type": "code",
   "execution_count": 4,
   "id": "4bca89f5",
   "metadata": {},
   "outputs": [
    {
     "name": "stdout",
     "output_type": "stream",
     "text": [
      "<class 'pandas.core.frame.DataFrame'>\n",
      "RangeIndex: 92 entries, 0 to 91\n",
      "Data columns (total 4 columns):\n",
      " #   Column     Non-Null Count  Dtype  \n",
      "---  ------     --------------  -----  \n",
      " 0   Height M   92 non-null     float64\n",
      " 1   Weight kg  92 non-null     float64\n",
      " 2   BMI        92 non-null     float64\n",
      " 3   %Fat       92 non-null     float64\n",
      "dtypes: float64(4)\n",
      "memory usage: 3.0 KB\n"
     ]
    }
   ],
   "source": [
    "#  .info() generates the basic information of the dataset like the number of roles and columns, the data types and the non-null rows\n",
    "\n",
    "df.info()"
   ]
  },
  {
   "cell_type": "code",
   "execution_count": 5,
   "id": "283e5993",
   "metadata": {},
   "outputs": [
    {
     "data": {
      "text/plain": [
       "Height M     0\n",
       "Weight kg    0\n",
       "BMI          0\n",
       "%Fat         0\n",
       "dtype: int64"
      ]
     },
     "execution_count": 5,
     "metadata": {},
     "output_type": "execute_result"
    }
   ],
   "source": [
    "# To generate the number of null rows and sum them up with\n",
    "\n",
    "df.isnull().sum()"
   ]
  },
  {
   "cell_type": "markdown",
   "id": "34bafba1",
   "metadata": {},
   "source": [
    "There is no missing value in the dataset"
   ]
  },
  {
   "cell_type": "code",
   "execution_count": 6,
   "id": "557c1307",
   "metadata": {},
   "outputs": [
    {
     "data": {
      "text/html": [
       "<div>\n",
       "<style scoped>\n",
       "    .dataframe tbody tr th:only-of-type {\n",
       "        vertical-align: middle;\n",
       "    }\n",
       "\n",
       "    .dataframe tbody tr th {\n",
       "        vertical-align: top;\n",
       "    }\n",
       "\n",
       "    .dataframe thead th {\n",
       "        text-align: right;\n",
       "    }\n",
       "</style>\n",
       "<table border=\"1\" class=\"dataframe\">\n",
       "  <thead>\n",
       "    <tr style=\"text-align: right;\">\n",
       "      <th></th>\n",
       "      <th>count</th>\n",
       "      <th>mean</th>\n",
       "      <th>std</th>\n",
       "      <th>min</th>\n",
       "      <th>25%</th>\n",
       "      <th>50%</th>\n",
       "      <th>75%</th>\n",
       "      <th>max</th>\n",
       "    </tr>\n",
       "  </thead>\n",
       "  <tbody>\n",
       "    <tr>\n",
       "      <th>Height M</th>\n",
       "      <td>92.0</td>\n",
       "      <td>1.511921</td>\n",
       "      <td>0.074101</td>\n",
       "      <td>1.333500</td>\n",
       "      <td>1.460500</td>\n",
       "      <td>1.498600</td>\n",
       "      <td>1.570037</td>\n",
       "      <td>1.663700</td>\n",
       "    </tr>\n",
       "    <tr>\n",
       "      <th>Weight kg</th>\n",
       "      <td>92.0</td>\n",
       "      <td>47.865091</td>\n",
       "      <td>13.076789</td>\n",
       "      <td>29.256710</td>\n",
       "      <td>38.952247</td>\n",
       "      <td>45.472638</td>\n",
       "      <td>52.701767</td>\n",
       "      <td>87.543333</td>\n",
       "    </tr>\n",
       "    <tr>\n",
       "      <th>BMI</th>\n",
       "      <td>92.0</td>\n",
       "      <td>20.705779</td>\n",
       "      <td>4.325132</td>\n",
       "      <td>14.986302</td>\n",
       "      <td>17.708670</td>\n",
       "      <td>19.478923</td>\n",
       "      <td>22.736931</td>\n",
       "      <td>34.461025</td>\n",
       "    </tr>\n",
       "    <tr>\n",
       "      <th>%Fat</th>\n",
       "      <td>92.0</td>\n",
       "      <td>26.961957</td>\n",
       "      <td>7.142888</td>\n",
       "      <td>15.600000</td>\n",
       "      <td>21.075000</td>\n",
       "      <td>25.500000</td>\n",
       "      <td>31.975000</td>\n",
       "      <td>46.000000</td>\n",
       "    </tr>\n",
       "  </tbody>\n",
       "</table>\n",
       "</div>"
      ],
      "text/plain": [
       "           count       mean        std        min        25%        50%  \\\n",
       "Height M    92.0   1.511921   0.074101   1.333500   1.460500   1.498600   \n",
       "Weight kg   92.0  47.865091  13.076789  29.256710  38.952247  45.472638   \n",
       "BMI         92.0  20.705779   4.325132  14.986302  17.708670  19.478923   \n",
       "%Fat        92.0  26.961957   7.142888  15.600000  21.075000  25.500000   \n",
       "\n",
       "                 75%        max  \n",
       "Height M    1.570037   1.663700  \n",
       "Weight kg  52.701767  87.543333  \n",
       "BMI        22.736931  34.461025  \n",
       "%Fat       31.975000  46.000000  "
      ]
     },
     "execution_count": 6,
     "metadata": {},
     "output_type": "execute_result"
    }
   ],
   "source": [
    "# to generate the summary statistics of the dataset\n",
    "\n",
    "df.describe().T"
   ]
  },
  {
   "cell_type": "markdown",
   "id": "7d0ecef2",
   "metadata": {},
   "source": [
    "These summary statistics provide an overview of the distribution of the variables in the dataset, which is useful for identifying any potential outliers or unusual values.\n",
    "\n",
    "- Height (M): This variable represents the height of the individuals in meters. The mean height is 1.51 meters with a standard deviation of 0.074 meters. The minimum height is 1.33 meters and the maximum height is 1.66 meters.\n",
    "\n",
    "- Weight (kg): This variable represents the weight of the individuals in kilograms. The mean weight is 47.87 kg with a standard deviation of 13.08 kg. The minimum weight is 29.26 kg and the maximum weight is 87.54 kg.\n",
    "\n",
    "- BMI: This variable represents the body mass index of the individuals. The mean BMI is 20.71 with a standard deviation of 4.33. The minimum BMI is 14.99 and the maximum BMI is 34.46.\n",
    "\n",
    "- %Fat: This variable represents the percentage of body fat of the individuals. The mean %Fat is 26.96% with a standard deviation of 7.14%. The minimum %Fat is 15.6% and the maximum %Fat is 46%."
   ]
  },
  {
   "cell_type": "code",
   "execution_count": 7,
   "id": "9d17a157",
   "metadata": {},
   "outputs": [
    {
     "name": "stderr",
     "output_type": "stream",
     "text": [
      "<frozen importlib._bootstrap>:228: RuntimeWarning: scipy._lib.messagestream.MessageStream size changed, may indicate binary incompatibility. Expected 56 from C header, got 64 from PyObject\n"
     ]
    }
   ],
   "source": [
    "# Importing more libraries for visualization\n",
    "\n",
    "import seaborn as sns\n",
    "import matplotlib.pyplot as plt\n"
   ]
  },
  {
   "cell_type": "markdown",
   "id": "eb19e12c",
   "metadata": {},
   "source": [
    "- matplotlib is an interractive visualization library used in python built from MATLAB\n",
    "\n",
    "- Seaborn is another library used for visualization, built on matplotlib. It provides an interface for more sophisticated, informatic and attractive statistical graphics"
   ]
  },
  {
   "cell_type": "code",
   "execution_count": 8,
   "id": "6f919d1b",
   "metadata": {},
   "outputs": [
    {
     "data": {
      "image/png": "[encoded data removed]",
      "text/plain": [
       "<Figure size 360x360 with 1 Axes>"
      ]
     },
     "metadata": {
      "needs_background": "light"
     },
     "output_type": "display_data"
    },
    {
     "data": {
      "image/png": "[encoded data removed]",
      "text/plain": [
       "<Figure size 360x360 with 1 Axes>"
      ]
     },
     "metadata": {
      "needs_background": "light"
     },
     "output_type": "display_data"
    },
    {
     "data": {
      "image/png": "[encoded data removed]",
      "text/plain": [
       "<Figure size 360x360 with 1 Axes>"
      ]
     },
     "metadata": {
      "needs_background": "light"
     },
     "output_type": "display_data"
    },
    {
     "data": {
      "image/png": "[encoded data removed]",
      "text/plain": [
       "<Figure size 360x360 with 1 Axes>"
      ]
     },
     "metadata": {
      "needs_background": "light"
     },
     "output_type": "display_data"
    }
   ],
   "source": [
    "sns.displot(df['Height M'], kind='hist', kde=True)\n",
    "sns.displot(df['Weight kg'], kind='hist', kde=True)\n",
    "sns.displot(df['BMI'], kind='hist', kde=True)\n",
    "sns.displot(df['%Fat'], kind='hist', kde=True)\n",
    "\n",
    "plt.show()"
   ]
  },
  {
   "cell_type": "markdown",
   "id": "6204f0af",
   "metadata": {},
   "source": [
    "The sns.displot() function above created a histogram-like plot for the data and it shows a density estimate of the distribution. This can help to visualize the shape of the distribution and identify any skewness or outliers.\n",
    "\n",
    "BMI, Weight and %Fat are Right-Skewed"
   ]
  },
  {
   "cell_type": "markdown",
   "id": "3278274d",
   "metadata": {},
   "source": [
    "### Using Boxplot to check for outliers in the variables"
   ]
  },
  {
   "cell_type": "code",
   "execution_count": 9,
   "id": "1547efdd",
   "metadata": {},
   "outputs": [
    {
     "data": {
      "image/png": "[encoded data removed]",
      "text/plain": [
       "<Figure size 432x288 with 1 Axes>"
      ]
     },
     "metadata": {
      "needs_background": "light"
     },
     "output_type": "display_data"
    }
   ],
   "source": [
    "plt.boxplot(df['Height M'])\n",
    "plt.title('Boxplot of Height')\n",
    "plt.ylabel('Height')\n",
    "plt.show()"
   ]
  },
  {
   "cell_type": "code",
   "execution_count": 10,
   "id": "c94f008a",
   "metadata": {
    "scrolled": true
   },
   "outputs": [
    {
     "data": {
      "image/png": "[encoded data removed]",
      "text/plain": [
       "<Figure size 432x288 with 1 Axes>"
      ]
     },
     "metadata": {
      "needs_background": "light"
     },
     "output_type": "display_data"
    }
   ],
   "source": [
    "plt.boxplot(df['Weight kg'])\n",
    "plt.title('Boxplot of Weight')\n",
    "plt.ylabel('Weight')\n",
    "plt.show()"
   ]
  },
  {
   "cell_type": "code",
   "execution_count": 11,
   "id": "f7ec5bdd",
   "metadata": {},
   "outputs": [
    {
     "data": {
      "image/png": "[encoded data removed]",
      "text/plain": [
       "<Figure size 432x288 with 1 Axes>"
      ]
     },
     "metadata": {
      "needs_background": "light"
     },
     "output_type": "display_data"
    }
   ],
   "source": [
    "plt.boxplot(df['BMI'])\n",
    "plt.title('Boxplot of BMI')\n",
    "plt.ylabel('BMI')\n",
    "plt.show()"
   ]
  },
  {
   "cell_type": "code",
   "execution_count": 12,
   "id": "d48c1c23",
   "metadata": {
    "scrolled": true
   },
   "outputs": [
    {
     "data": {
      "image/png": "[encoded data removed]",
      "text/plain": [
       "<Figure size 936x576 with 2 Axes>"
      ]
     },
     "metadata": {
      "needs_background": "light"
     },
     "output_type": "display_data"
    }
   ],
   "source": [
    "# To visualise correlation between variables in the datasetb\n",
    "\n",
    "plt.figure(figsize=(13, 8))\n",
    "sns.heatmap(data=df.corr(), annot = True);"
   ]
  },
  {
   "cell_type": "markdown",
   "id": "974d9010",
   "metadata": {},
   "source": [
    "- The level of correlation in the above visuals is depicted by how light the colour plates. There is a very high correlation between BMI and Weight(kg) while there is little or ignorable correlation between  %Fat and Height (M)."
   ]
  },
  {
   "cell_type": "markdown",
   "id": "de0964c1",
   "metadata": {},
   "source": [
    "# To create the Linear regression model and Predict"
   ]
  },
  {
   "cell_type": "code",
   "execution_count": 13,
   "id": "c6d0228c",
   "metadata": {
    "scrolled": true
   },
   "outputs": [
    {
     "name": "stdout",
     "output_type": "stream",
     "text": [
      "Mean squared error: 0.1808097227168271\n",
      "R-squared: 0.9902283141550076\n"
     ]
    }
   ],
   "source": [
    "#importing the necessary libraries\n",
    "\n",
    "from sklearn.linear_model import LinearRegression\n",
    "from sklearn.metrics import mean_squared_error, r2_score\n",
    "\n",
    "\n",
    "# split the data into independent (X) and dependent (y) variables\n",
    "# Note %Fat is not used in calculation of body mass index, BMI is calculate with Height and Weight while %Fat is variable derived from a couple of other varibales\n",
    "X = df[['Height M', 'Weight kg']]\n",
    "y = df['BMI']\n",
    "\n",
    "# create a linear regression model and fit it to the data\n",
    "model = LinearRegression()\n",
    "model.fit(X, y)\n",
    "\n",
    "# use the model to make predictions on the test data\n",
    "y_pred = model.predict(X)\n",
    "\n",
    "# evaluate the performance of the model using mean squared error and R-squared\n",
    "mse = mean_squared_error(y, y_pred)\n",
    "r2 = r2_score(y, y_pred)\n",
    "\n",
    "print('Mean squared error:', mse)\n",
    "print('R-squared:', r2)\n"
   ]
  },
  {
   "cell_type": "markdown",
   "id": "4d14c532",
   "metadata": {},
   "source": [
    "# Recommendation"
   ]
  },
  {
   "cell_type": "markdown",
   "id": "f0415f4b",
   "metadata": {},
   "source": [
    "The mean squared error (MSE) represents the average squared difference between the predicted BMI and the actual BMI. The lower the MSE, the better the model's performance. The R-squared (r2) represents the proportion of variance in the BMI that is explained by the model. The higher the r2, the better the model's performance.\n",
    "The R-squared of 0.99 shows the model is performing well but the mean squared error of 0.18 indicates that there is still some error in the prediction.\n",
    "\n",
    "In this case the entire dataset was used to model/predict, however to improve the performance of the model I will split the data into training and testing sets and apply cross-validation to get a better estimate of the model's performance. It also helps to reduce the risk of overfitting\n",
    "\n"
   ]
  },
  {
   "cell_type": "markdown",
   "id": "a8d6839f",
   "metadata": {},
   "source": [
    "# Vortex-BMI-Calculator"
   ]
  },
  {
   "cell_type": "code",
   "execution_count": 19,
   "id": "494c1adc",
   "metadata": {
    "scrolled": true
   },
   "outputs": [
    {
     "name": "stdout",
     "output_type": "stream",
     "text": [
      "Enter your name: Candidate 1\n",
      "Enter your weight in kg: 49.441572\n",
      "Enter your height in meters: 1.60020\n",
      "19.308287\n",
      "Candidate 1, is are normal weight.\n"
     ]
    }
   ],
   "source": [
    "# BMI = (weight in pounds x 703) / (height in inches x height in inches)\n",
    "\n",
    "# Under 18.5\tUnderweight\tMinimal\n",
    "# 18.5 - 24.9\tNormal Weight\tMinimal\n",
    "# 25 - 29.9\tOverweight\tIncreased\n",
    "# 30 - 34.9\tObese\tHigh\n",
    "# 35 - 39.9\tSeverely Obese\tVery High\n",
    "# 40 and over\tMorbidly Obese\tExtremely High\n",
    "\n",
    "name= input(\"Enter your name: \")\n",
    "\n",
    "weight = float(input(\"Enter your weight in kg: \"))\n",
    "\n",
    "height = float(input(\"Enter your height in meters: \"))\n",
    "\n",
    "BMI = weight / (height ** 2)\n",
    "\n",
    "print(\"{:.6f}\".format(BMI))\n",
    "\n",
    "if BMI > 0:\n",
    "    if(BMI < 18.5):\n",
    "        print(name +\", is are underweight.\")\n",
    "    elif(BMI < 24.9):\n",
    "        print(name +\", is are normal weight.\")\n",
    "    elif(BMI < 29.9):\n",
    "        print(name +\", is are a overweight.\")\n",
    "    elif(BMI < 34.9):\n",
    "        print(name +\", is are obese.\")\n",
    "    elif(BMI < 39.9):\n",
    "        print(name +\", is are severely obese.\")\n",
    "    else:\n",
    "        print(name +\", is are morbidly obese\")\n",
    "else:\n",
    "    print(\"Enter valid input\")\n"
   ]
  },
  {
   "cell_type": "code",
   "execution_count": null,
   "id": "79a14dde",
   "metadata": {},
   "outputs": [],
   "source": []
  }
 ],
 "metadata": {
  "kernelspec": {
   "display_name": "Python 3 (ipykernel)",
   "language": "python",
   "name": "python3"
  },
  "language_info": {
   "codemirror_mode": {
    "name": "ipython",
    "version": 3
   },
   "file_extension": ".py",
   "mimetype": "text/x-python",
   "name": "python",
   "nbconvert_exporter": "python",
   "pygments_lexer": "ipython3",
   "version": "3.9.12"
  }
 },
 "nbformat": 4,
 "nbformat_minor": 5
}
